{
 "cells": [
  {
   "cell_type": "code",
   "execution_count": 13,
   "id": "cbd7c07a",
   "metadata": {},
   "outputs": [],
   "source": [
    "import numpy as np\n",
    "import pandas as pd\n",
    "import matplotlib.pyplot as plt\n",
    "from sentence_transformers import SentenceTransformer, util"
   ]
  },
  {
   "cell_type": "code",
   "execution_count": 5,
   "id": "1beb07db",
   "metadata": {},
   "outputs": [],
   "source": [
    "base_prompts_1 = 'Why do humans need sleep?'\n",
    "base_prompts_2 = 'How does photosynthesis work in plants?'\n",
    "base_prompts_3 = 'Describe happiness without using the word \"happy\".'"
   ]
  },
  {
   "cell_type": "code",
   "execution_count": 15,
   "id": "152bf839",
   "metadata": {},
   "outputs": [],
   "source": [
    "variant_prompts_1 = [\n",
    "    'What makes sleep essential for humans?',\n",
    "    'How does sleep benefit the human body and mind?',\n",
    "    'What role does sleep play in human health and functioning?',\n",
    "    'Why is it necessary for people to sleep?',\n",
    "    'In what ways is sleep crucial to human well-being?',\n",
    "    \"What are the reasons humans can't function without sleep?\",\n",
    "    \"Why is getting enough sleep important for humans?\",\n",
    "    \"What happens to the human body and brain that makes sleep a necessity?\"\n",
    "]"
   ]
  },
  {
   "cell_type": "code",
   "execution_count": 16,
   "id": "bd424fbe",
   "metadata": {},
   "outputs": [],
   "source": [
    "model = SentenceTransformer(\"all-MiniLM-L6-v2\")"
   ]
  },
  {
   "cell_type": "code",
   "execution_count": 17,
   "id": "d9cad018",
   "metadata": {},
   "outputs": [],
   "source": [
    "base_p1_emb = model.encode(base_prompts_1)"
   ]
  },
  {
   "cell_type": "code",
   "execution_count": 18,
   "id": "1bb65ad3",
   "metadata": {},
   "outputs": [],
   "source": [
    "variants_p1_emb = model.encode(varient_prompts_1)"
   ]
  },
  {
   "cell_type": "code",
   "execution_count": 19,
   "id": "8dc26abb",
   "metadata": {},
   "outputs": [
    {
     "name": "stdout",
     "output_type": "stream",
     "text": [
      "tensor([[0.8500, 0.7480, 0.6935, 0.9188, 0.7535, 0.8178, 0.8823, 0.8255]])\n"
     ]
    }
   ],
   "source": [
    "similarities = util.cos_sim(base_p1_emb, varients_p1_emb).cpu().numpy().flatten()\n",
    "print(b_v_p1_sim)"
   ]
  },
  {
   "cell_type": "code",
   "execution_count": 27,
   "id": "175d0b4a",
   "metadata": {},
   "outputs": [],
   "source": [
    "def filter_v_sim(base,variant,model, min_sim=0.85):\n",
    "    base_emb = model.encode(base, convert_to_tensor=True)\n",
    "    var_embs = model.encode(variant, convert_to_tensor=True)\n",
    "    sims = util.cos_sim(base_emb, var_embs).cpu().numpy().flatten()\n",
    "\n",
    "    df = pd.DataFrame({\n",
    "        \"variant\": variant,\n",
    "        \"similarity\": sims,\n",
    "        \"keep\": [(min_sim <= s) for s in sims]\n",
    "    })\n",
    "    return df.sort_values(\"similarity\", ascending=False)\n",
    "\n",
    "    filtered_df = filter_variants_by_similarity(\n",
    "    base_prompt_1, variant_prompts_1, model, min_sim=0.85)\n",
    "\n",
    "    print(filtered_df)"
   ]
  },
  {
   "cell_type": "code",
   "execution_count": 28,
   "id": "a965e7a8",
   "metadata": {},
   "outputs": [
    {
     "data": {
      "text/html": [
       "<div>\n",
       "<style scoped>\n",
       "    .dataframe tbody tr th:only-of-type {\n",
       "        vertical-align: middle;\n",
       "    }\n",
       "\n",
       "    .dataframe tbody tr th {\n",
       "        vertical-align: top;\n",
       "    }\n",
       "\n",
       "    .dataframe thead th {\n",
       "        text-align: right;\n",
       "    }\n",
       "</style>\n",
       "<table border=\"1\" class=\"dataframe\">\n",
       "  <thead>\n",
       "    <tr style=\"text-align: right;\">\n",
       "      <th></th>\n",
       "      <th>variant</th>\n",
       "      <th>similarity</th>\n",
       "      <th>keep</th>\n",
       "    </tr>\n",
       "  </thead>\n",
       "  <tbody>\n",
       "    <tr>\n",
       "      <th>3</th>\n",
       "      <td>Why is it necessary for people to sleep?</td>\n",
       "      <td>0.918821</td>\n",
       "      <td>True</td>\n",
       "    </tr>\n",
       "    <tr>\n",
       "      <th>6</th>\n",
       "      <td>Why is getting enough sleep important for humans?</td>\n",
       "      <td>0.882275</td>\n",
       "      <td>True</td>\n",
       "    </tr>\n",
       "    <tr>\n",
       "      <th>0</th>\n",
       "      <td>What makes sleep essential for humans?</td>\n",
       "      <td>0.850024</td>\n",
       "      <td>True</td>\n",
       "    </tr>\n",
       "    <tr>\n",
       "      <th>7</th>\n",
       "      <td>What happens to the human body and brain that ...</td>\n",
       "      <td>0.825465</td>\n",
       "      <td>False</td>\n",
       "    </tr>\n",
       "    <tr>\n",
       "      <th>5</th>\n",
       "      <td>What are the reasons humans can't function wit...</td>\n",
       "      <td>0.817788</td>\n",
       "      <td>False</td>\n",
       "    </tr>\n",
       "    <tr>\n",
       "      <th>4</th>\n",
       "      <td>In what ways is sleep crucial to human well-be...</td>\n",
       "      <td>0.753535</td>\n",
       "      <td>False</td>\n",
       "    </tr>\n",
       "    <tr>\n",
       "      <th>1</th>\n",
       "      <td>How does sleep benefit the human body and mind?</td>\n",
       "      <td>0.747996</td>\n",
       "      <td>False</td>\n",
       "    </tr>\n",
       "    <tr>\n",
       "      <th>2</th>\n",
       "      <td>What role does sleep play in human health and ...</td>\n",
       "      <td>0.693460</td>\n",
       "      <td>False</td>\n",
       "    </tr>\n",
       "  </tbody>\n",
       "</table>\n",
       "</div>"
      ],
      "text/plain": [
       "                                             variant  similarity   keep\n",
       "3           Why is it necessary for people to sleep?    0.918821   True\n",
       "6  Why is getting enough sleep important for humans?    0.882275   True\n",
       "0             What makes sleep essential for humans?    0.850024   True\n",
       "7  What happens to the human body and brain that ...    0.825465  False\n",
       "5  What are the reasons humans can't function wit...    0.817788  False\n",
       "4  In what ways is sleep crucial to human well-be...    0.753535  False\n",
       "1    How does sleep benefit the human body and mind?    0.747996  False\n",
       "2  What role does sleep play in human health and ...    0.693460  False"
      ]
     },
     "execution_count": 28,
     "metadata": {},
     "output_type": "execute_result"
    }
   ],
   "source": [
    "filter_v_sim(base_prompts_1,variant_prompts_1,model)"
   ]
  }
 ],
 "metadata": {
  "kernelspec": {
   "display_name": ".venv",
   "language": "python",
   "name": "python3"
  },
  "language_info": {
   "codemirror_mode": {
    "name": "ipython",
    "version": 3
   },
   "file_extension": ".py",
   "mimetype": "text/x-python",
   "name": "python",
   "nbconvert_exporter": "python",
   "pygments_lexer": "ipython3",
   "version": "3.10.6"
  }
 },
 "nbformat": 4,
 "nbformat_minor": 5
}
